{
 "cells": [
  {
   "cell_type": "code",
   "execution_count": 1,
   "id": "9c304f50",
   "metadata": {},
   "outputs": [
    {
     "name": "stderr",
     "output_type": "stream",
     "text": [
      "c:\\Users\\maxma\\AppData\\Local\\Programs\\Python\\Python37\\lib\\site-packages\\tqdm\\auto.py:22: TqdmWarning: IProgress not found. Please update jupyter and ipywidgets. See https://ipywidgets.readthedocs.io/en/stable/user_install.html\n",
      "  from .autonotebook import tqdm as notebook_tqdm\n"
     ]
    },
    {
     "data": {
      "text/plain": [
       "<torch.autograd.anomaly_mode.set_detect_anomaly at 0x20c135035f8>"
      ]
     },
     "execution_count": 1,
     "metadata": {},
     "output_type": "execute_result"
    }
   ],
   "source": [
    "# Suggested imports. Do not use import any modules that are not in the requirements.txt file on the VLE.\n",
    "\n",
    "%matplotlib inline\n",
    "\n",
    "import numpy as np\n",
    "import pandas as pd\n",
    "import torch\n",
    "import collections\n",
    "import random\n",
    "import matplotlib.pyplot as plt\n",
    "import sklearn.model_selection\n",
    "import sklearn.metrics\n",
    "\n",
    "device = 'cuda:0' if torch.cuda.is_available() else 'cpu'\n",
    "torch.autograd.set_detect_anomaly(True)"
   ]
  },
  {
   "cell_type": "markdown",
   "id": "fc98e8ff",
   "metadata": {},
   "source": [
    "# Movie titles assignment\n",
    "\n",
    "Table of contents:\n",
    "\n",
    "* [Data filtering and splitting (10%)](#Data-filtering-and-splitting-(10%))\n",
    "* [Title classification (25%)](#Title-classification-(25%))\n",
    "* [Title generation (25%)](#Title-generation-(25%))\n",
    "* [Language models as classifiers (30%)](#Language-models-as-classifiers-(30%))\n",
    "* [Conclusion (10%)](#Conclusion-(10%))\n",
    "\n",
    "Information:\n",
    "\n",
    "This assignment is 100% of your assessment.\n",
    "You are to follow the instructions below and fill each cell as instructed.\n",
    "Once ready, submit this notebook on VLE with all the outputs included (run all your code and don't clear any output cells).\n",
    "Do not submit anything else apart from the notebook and do not use any extra data apart from what is requested."
   ]
  },
  {
   "cell_type": "markdown",
   "id": "98ab5373",
   "metadata": {},
   "source": [
    "## Introduction\n",
    "\n",
    "A big shot Hollywood producer is looking for a way to automatically generate new movie titles for future movies and you have been employed to do this (in exchange for millions of dollars!).\n",
    "A data set of movie details has already been collected from IMDb for you and your task is to create the model and the algorithms necessary to use it."
   ]
  },
  {
   "cell_type": "markdown",
   "id": "80bb2f45",
   "metadata": {},
   "source": [
    "## Data filtering and splitting (10%)\n",
    "\n",
    "Start by downloading the CSV file `filmtv_movies - ENG.csv` from [this kaggle data set](https://www.kaggle.com/datasets/stefanoleone992/filmtv-movies-dataset).\n",
    "\n",
    "The CSV file needs to be filtered as the producer is only interested in certain types of movie titles.\n",
    "Load the file and filter it so that only movies with the following criteria are kept:\n",
    "\n",
    "* The country needs to be `United States` (and no other country should be mentioned).\n",
    "* The genre should be `Action`, `Horror`, `Fantasy`, `Western`, and `Adventure`.\n",
    "* The title should not have more than 20 characters."
   ]
  },
  {
   "cell_type": "code",
   "execution_count": 2,
   "id": "0de60b7d",
   "metadata": {},
   "outputs": [],
   "source": [
    "data = pd.read_csv('Data/filmtv_movies - ENG.csv', index_col=None)"
   ]
  },
  {
   "cell_type": "code",
   "execution_count": 3,
   "id": "1c2a2e96",
   "metadata": {},
   "outputs": [],
   "source": [
    "genres = ['Action', 'Horror', 'Fantasy', 'Western', 'Adventure']\n",
    "\n",
    "data = data.loc[(data['country'] == 'United States') &\n",
    "                (data['genre'].isin(genres)) & \n",
    "                (data['title'].str.len() <= 20)]"
   ]
  },
  {
   "cell_type": "markdown",
   "id": "448acbaa",
   "metadata": {},
   "source": [
    "Split the filtered data into 80% train, 10% validation, and 10% test.\n",
    "You will only need the title and genre columns."
   ]
  },
  {
   "cell_type": "code",
   "execution_count": 4,
   "id": "ec1fca47",
   "metadata": {},
   "outputs": [],
   "source": [
    "data = data[['title', 'genre']]\n",
    "train, validate, test = np.split(data.sample(frac=1), [int(.8*len(data)), int(.9*len(data))])"
   ]
  },
  {
   "cell_type": "markdown",
   "id": "304d5332",
   "metadata": {},
   "source": [
    "From your processed data set, display:\n",
    "\n",
    "* the amount of movies in each genre and split\n",
    "* 5 examples of movie titles from each genre and split"
   ]
  },
  {
   "cell_type": "code",
   "execution_count": 5,
   "id": "f652b035",
   "metadata": {},
   "outputs": [
    {
     "name": "stdout",
     "output_type": "stream",
     "text": [
      "           Action         Horror         Fantasy        Western        Adventure      Totals        \n",
      "Train      736            731            448            438            383            2736          \n",
      "Test       73             104            60             51             54             342           \n",
      "Test       105            91             51             49             46             342           \n",
      "Totals     926            914            538            483            559            3420          \n"
     ]
    }
   ],
   "source": [
    "train_genres = []\n",
    "test_genres = []\n",
    "validate_genres = []\n",
    "\n",
    "for genre in genres:\n",
    "    train_genres.append(len(train[train['genre'] == genre]))\n",
    "for genre in genres:\n",
    "    test_genres.append(len(test[test['genre'] == genre]))\n",
    "for genre in genres:\n",
    "    validate_genres.append(len(validate[validate['genre'] == genre]))\n",
    "\n",
    "print(\"{:<10} {:<14} {:<14} {:<14} {:<14} {:<14} {:<14}\".format('', 'Action', 'Horror', 'Fantasy', 'Western', 'Adventure', 'Totals'))\n",
    "print(\"{:<10} {:<14} {:<14} {:<14} {:<14} {:<14} {:<14}\".format('Train', train_genres[0], train_genres[1], train_genres[2], train_genres[3], train_genres[4], len(train)))\n",
    "print(\"{:<10} {:<14} {:<14} {:<14} {:<14} {:<14} {:<14}\".format('Test', test_genres[0], test_genres[1], test_genres[2], test_genres[3], test_genres[4], len(test)))\n",
    "print(\"{:<10} {:<14} {:<14} {:<14} {:<14} {:<14} {:<14}\".format('Test', validate_genres[0], validate_genres[1], validate_genres[2], validate_genres[3], validate_genres[4], len(validate)))\n",
    "print(\"{:<10} {:<14} {:<14} {:<14} {:<14} {:<14} {:<14}\".format('Totals', len(data[data['genre'] == 'Horror']), len(data[data['genre'] == 'Action']), len(data[data['genre'] == 'Western']), \n",
    "                                                                len(data[data['genre'] == 'Adventure']), len(data[data['genre'] == 'Fantasy']), len(data)))"
   ]
  },
  {
   "cell_type": "markdown",
   "id": "8c1240be",
   "metadata": {},
   "source": [
    "## Title classification (25%)\n",
    "\n",
    "Your first task is to prove that a neural network can identify the genre of a movie based on its title.\n",
    "\n",
    "You will note that many titles are just a single word or two words long so you need to work at the character level instead of the word level, that is, a token would be a single character, including punctuation marks and spaces.\n",
    "You must also lowercase the titles.\n",
    "Preprocess the data sets, create a neural network, and train it to classify the movie titles into their genre.\n",
    "Plot a graph of the **accuracy** of the model on the train and validation sets after each epoch."
   ]
  },
  {
   "cell_type": "code",
   "execution_count": 6,
   "id": "d7522adb",
   "metadata": {},
   "outputs": [],
   "source": [
    "train['title'] = train['title'].str.lower()\n",
    "titles_temp = train['title'].values\n",
    "titles = [list(title) for title in titles_temp]"
   ]
  },
  {
   "cell_type": "code",
   "execution_count": 7,
   "id": "35e94d6c",
   "metadata": {},
   "outputs": [],
   "source": [
    "min_freq = 3"
   ]
  },
  {
   "cell_type": "code",
   "execution_count": 32,
   "id": "ed8b60ed",
   "metadata": {},
   "outputs": [],
   "source": [
    "# Training Set\n",
    "train_x = []\n",
    "train_y = []\n",
    "for row in range(0, len(train)):\n",
    "    title = list(train.iloc[row]['title'].lower())\n",
    "    genre = [train.iloc[row]['genre']]\n",
    "\n",
    "    train_x.append(title)\n",
    "    train_y.append(genre)\n",
    "\n",
    "# Testing Set\n",
    "test_x = []\n",
    "test_y = []\n",
    "for row in range(0, len(test)):\n",
    "    title = list(test.iloc[row]['title'].lower())\n",
    "    genre = [test.iloc[row]['genre']]\n",
    "\n",
    "    test_x.append(title)\n",
    "    test_y.append(genre)\n",
    "\n",
    "# Lengths\n",
    "train_lens = torch.tensor(\n",
    "    [len(title) for title in train_x],\n",
    "    dtype=torch.int64, device=device\n",
    ")\n",
    "\n",
    "test_lens = torch.tensor(\n",
    "    [len(title) for title in test_x],\n",
    "    dtype=torch.int64, device=device\n",
    ")\n",
    "\n",
    "max_len = max(max(train_lens), max(test_lens))\n",
    "\n",
    "# Genres\n",
    "genre = sorted(set(genre for text in train_y for genre in text))\n",
    "genre = sorted(genre)\n",
    "\n",
    "# Genre Indexing\n",
    "genre2index = {genre: i for (i, genre) in enumerate(genre)}\n",
    "\n",
    "# vocab\n",
    "frequencies = collections.Counter(letter for text in train_x for word in text for letter in word)\n",
    "vocab = sorted(frequencies.keys(), key=frequencies.get, reverse=True)\n",
    "while frequencies[vocab[-1]] < min_freq:\n",
    "    vocab.pop()\n",
    "vocab = ['<PAD>', '<UNK>'] + sorted(vocab)\n",
    "letter2index = {letter: i for (i, letter) in enumerate(vocab)}\n",
    "\n",
    "# Padding and UNK indexing\n",
    "for i in range(len(train_x)):\n",
    "    for j in range(len(train_x[i])):\n",
    "        if train_x[i][j] not in letter2index:\n",
    "            train_x[i][j] = '<UNK>'\n",
    "    \n",
    "    for x in range(0, (max_len - len(train_x[i]))):\n",
    "        train_x[i].extend(['<PAD>'])\n",
    "    \n",
    "    temp_ans = train_y[i]\n",
    "    train_y[i] = [0] * len(genre)\n",
    "    train_y[i][genre2index[temp_ans[0]]] = 1\n",
    "\n",
    "for i in range(len(test_x)):\n",
    "    for j in range(len(test_x[i])):\n",
    "        if test_x[i][j] not in letter2index:\n",
    "            test_x[i][j] = '<UNK>'\n",
    "\n",
    "    for x in range(0, (max_len - len(test_x[i]))):\n",
    "        test_x[i].extend(['<PAD>'])\n",
    "    \n",
    "    temp_ans = test_y[i]\n",
    "    test_y[i] = [0] * len(genre)\n",
    "    test_y[i][genre2index[temp_ans[0]]] = 1\n",
    "\n",
    "# indexing\n",
    "indexed_train_x = torch.tensor([[letter2index[letter] for letter in text] for text in train_x], \n",
    "                                dtype=torch.int64, \n",
    "                                device=device)\n",
    "indexed_train_y = torch.tensor([y for y in train_y],\n",
    "                                dtype=torch.float32, \n",
    "                                device=device)\n",
    "\n",
    "indexed_test_x = torch.tensor([[letter2index[letter] for letter in text] for text in test_x], \n",
    "                                dtype=torch.int64, \n",
    "                                device=device)\n",
    "indexed_test_y = torch.tensor([y for y in test_y],\n",
    "                                dtype=torch.float32, \n",
    "                                device=device)\n"
   ]
  },
  {
   "cell_type": "code",
   "execution_count": 9,
   "id": "5e49ab17",
   "metadata": {},
   "outputs": [
    {
     "name": "stdout",
     "output_type": "stream",
     "text": [
      "First 10 vocab: ['<PAD>', '<UNK>', ' ', '!', '&', \"'\", ',', '-', '.', '/']\n",
      "Last 10 vocab: ['q', 'r', 's', 't', 'u', 'v', 'w', 'x', 'y', 'z']\n",
      "Vocab Size: 47\n",
      "\n",
      "First train_x:\n",
      " ['r', 'o', 'l', 'l', 'e', 'r', 'b', 'a', 'l', 'l', '<PAD>', '<PAD>', '<PAD>', '<PAD>', '<PAD>', '<PAD>', '<PAD>', '<PAD>', '<PAD>', '<PAD>']\n",
      "\n",
      "First train_y: [1, 0, 0, 0, 0]\n",
      "\n",
      "Genres: ['Action', 'Adventure', 'Fantasy', 'Horror', 'Western']\n",
      "\n",
      "First indexed_train_x:\n",
      " tensor([40, 29, 40, 21, 34, 29, 23,  0,  0,  0,  0,  0,  0,  0,  0,  0,  0,  0,\n",
      "         0,  0])\n",
      "First indexed_train_y:\n",
      " tensor([1., 0., 0., 0., 0.])\n",
      "\n",
      "First indexed_test_x:\n",
      " tensor([28, 35, 32, 29, 24, 21, 45,  2, 28, 25, 32, 32,  0,  0,  0,  0,  0,  0,\n",
      "         0,  0])\n",
      "First indexed_test_y:\n",
      " tensor([0., 0., 0., 1., 0.])\n"
     ]
    }
   ],
   "source": [
    "print(f'First 10 vocab: {vocab[:10]}')\n",
    "print(f'Last 10 vocab: {vocab[-10:]}')\n",
    "print(f'Vocab Size: {len(vocab)}\\n')\n",
    "\n",
    "print(f'First train_x:\\n {train_x[1]}\\n')\n",
    "print(f'First train_y: {train_y[0]}\\n')\n",
    "\n",
    "print(f'Genres: {genre}\\n')\n",
    "\n",
    "print(f'First indexed_train_x:\\n {indexed_train_x[0]}')\n",
    "print(f'First indexed_train_y:\\n {indexed_train_y[0]}\\n')\n",
    "\n",
    "print(f'First indexed_test_x:\\n {indexed_test_x[0]}')\n",
    "print(f'First indexed_test_y:\\n {indexed_test_y[0]}')"
   ]
  },
  {
   "cell_type": "code",
   "execution_count": 77,
   "id": "a6041f12",
   "metadata": {},
   "outputs": [],
   "source": [
    "class Model(torch.nn.Module):\n",
    "\n",
    "    def __init__(self, chars_size, embedding_size, hidden_size, genre_size, max_len, window_size):\n",
    "        super().__init__()\n",
    "        self.embedding_size = embedding_size\n",
    "        self.window_size = window_size\n",
    "        self.inf = torch.tensor(float(1e30), dtype=torch.float32, device=device)\n",
    "\n",
    "        self.embedding_layer = torch.nn.Embedding(chars_size, embedding_size)\n",
    "        self.conv_layer_1 = torch.nn.Conv2d(embedding_size//2, hidden_size, window_size)\n",
    "        self.conv_layer_2 = torch.nn.Conv2d(embedding_size//2, hidden_size, window_size)\n",
    "        self.output_layer = torch.nn.Linear(2*hidden_size, genre_size) # Output size number of genres\n",
    "    \n",
    "    def forward(self, x, title_lens):\n",
    "        sMax = torch.nn.Softmax(dim = 1)\n",
    "        embedded = self.embedding_layer(x)\n",
    "\n",
    "        embedded_1 = embedded[:, :, 0:self.embedding_size//2]\n",
    "        embedded_2 = embedded[:, :, self.embedding_size//2:self.embedding_size]\n",
    "\n",
    "        embedded_1_t = embedded_1.transpose(1, 2)\n",
    "        hidden_1_t = torch.nn.functional.leaky_relu(self.conv_layer_1(embedded_1_t))\n",
    "        hidden_1 = hidden_1_t.transpose(1, 2)\n",
    "\n",
    "        embedded_2_t = embedded_2.transpose(1, 2)\n",
    "        hidden_2_t = torch.nn.functional.leaky_relu(self.conv_layer_2(embedded_2_t))\n",
    "        hidden_2 = hidden_2_t.transpose(1, 2)\n",
    "\n",
    "        hidden = torch.cat((hidden_1, hidden_2), dim=2)\n",
    "\n",
    "        pad_mask = torch.zeros(hidden.shape, dtype=torch.bool, device=device)\n",
    "        for i in range(hidden.shape[0]):\n",
    "            for j in range(hidden.shape[1]):\n",
    "                pad_mask[i, j, :] = j >= (title_lens[i] - self.window_size + 1)\n",
    "        masked = torch.masked_fill(hidden, pad_mask, self.inf)\n",
    "        # print(f\"masked: {masked}\")\n",
    "\n",
    "        pooled = torch.min(masked, dim = 1)[0]\n",
    "\n",
    "        output = self.output_layer(pooled)\n",
    "        return sMax(output)"
   ]
  },
  {
   "cell_type": "code",
   "execution_count": 78,
   "id": "969fec2b",
   "metadata": {},
   "outputs": [],
   "source": [
    "class GenreClassifier():\n",
    "    \n",
    "    def __init__(self, chars, iters, title_lens, genre_size, embedding, hidden, max_len, window_size):\n",
    "        self.model = Model(chars_size = len(chars), \n",
    "                           embedding_size = embedding, \n",
    "                           hidden_size = hidden, \n",
    "                           genre_size = genre_size, \n",
    "                           max_len = max_len,\n",
    "                           window_size = window_size)\n",
    "                           \n",
    "        self.model.to(device)\n",
    "        self.optimiser = torch.optim.Adam(self.model.parameters())\n",
    "\n",
    "        self.iters = iters\n",
    "        self.title_lens = title_lens\n",
    "        self.train_errors = []\n",
    "    \n",
    "    def run(self, indexed_train_x, indexed_train_y, title_lens):\n",
    "        print('step', 'error')\n",
    "        self.train_errors = []\n",
    "\n",
    "        for step in range(1, self.iters + 1):  \n",
    "            self.optimiser.zero_grad()\n",
    "            output = self.model(indexed_train_x, title_lens)\n",
    "            error = torch.nn.functional.binary_cross_entropy_with_logits(output, indexed_train_y)\n",
    "            self.train_errors.append(error.detach().tolist())\n",
    "            error.backward()\n",
    "            self.optimiser.step()\n",
    "\n",
    "            if step%5 == 0:\n",
    "                print(step, self.train_errors[-1])  \n",
    "\n",
    "        \n",
    "        \n",
    "    def accuracy(self, test_x, test_y, lens):\n",
    "        with torch.no_grad():\n",
    "            predictions = self.model(test_x, lens)\n",
    "            accuracy = (torch.round(predictions) == test_y).numpy().mean()\n",
    "            print('Test accuracy: {:.3%}'.format(accuracy))\n",
    "    \n",
    "    def f1_score(self, test_x, test_y, lens):\n",
    "        with torch.no_grad():\n",
    "            predictions = self.model(test_x, lens)\n",
    "            predictions = np.argmax(predictions.numpy(), axis = 1)\n",
    "            test_y = np.argmax(test_y, axis = 1)\n",
    "            f1 = sklearn.metrics.f1_score(test_y, predictions, average = None)\n",
    "            return f1\n",
    "        \n",
    "\n",
    "    \n",
    "    def confusion_matrix(self, test_x, test_y, lens):\n",
    "        with torch.no_grad():\n",
    "            predictions = self.model(test_x, lens)\n",
    "            predictions = np.argmax(predictions.numpy(), axis = 1)\n",
    "            test_y = np.argmax(test_y, axis = 1)\n",
    "            c = sklearn.metrics.confusion_matrix(test_y, predictions)\n",
    "            cp = sklearn.metrics.ConfusionMatrixDisplay(c, display_labels=genre)\n",
    "            fig, ax = plt.subplots(figsize=(10,10))\n",
    "            ax.set_title(\"Confusion Matrix\")\n",
    "            cp.plot(ax = ax)\n",
    "\n",
    "\n",
    "\n",
    "    def errors(self):\n",
    "        (fig, ax) = plt.subplots(1, 1)\n",
    "        ax.set_xlabel('step')\n",
    "        ax.set_ylabel('$E$')\n",
    "        ax.plot(range(1, len(self.train_errors) + 1), self.train_errors, color='blue', linestyle='-', linewidth=3)\n",
    "        ax.grid()"
   ]
  },
  {
   "cell_type": "code",
   "execution_count": null,
   "id": "a7f5db4d",
   "metadata": {},
   "outputs": [],
   "source": [
    "classifier = GenreClassifier(chars = vocab, \n",
    "                             iters = 50, \n",
    "                             title_lens = train_lens, \n",
    "                             genre_size = len(genre), \n",
    "                             embedding = 16, \n",
    "                             hidden = 16, \n",
    "                             max_len = max_len, \n",
    "                             window_size = 2)\n",
    "                             \n",
    "classifier.run(indexed_train_x, indexed_train_y, train_lens)\n",
    "classifier.errors()"
   ]
  },
  {
   "cell_type": "markdown",
   "id": "f53265d7",
   "metadata": {},
   "source": [
    "Measure the F1 score performance of the model when applied on the test set.\n",
    "Also plot a confusion matrix showing how often each genre is mistaken as another genre."
   ]
  },
  {
   "cell_type": "code",
   "execution_count": 74,
   "id": "e3e9f69c",
   "metadata": {},
   "outputs": [
    {
     "name": "stdout",
     "output_type": "stream",
     "text": [
      "           Action     Adventure  Fantasy    Horror     Western   \n",
      "F1-score   0.392      0.000      0.000      0.074      0.000     \n"
     ]
    }
   ],
   "source": [
    "f1_score = classifier.f1_score(indexed_test_x, test_y, test_lens)\n",
    "\n",
    "print(\"{:<10} {:<10} {:<10} {:<10} {:<10} {:<10}\".format(\"\", genre[0], genre[1], genre[2], genre[3], genre[4]))\n",
    "print(\"{:<10} {:<10.3f} {:<10.3f} {:<10.3f} {:<10.3f} {:<10.3f}\".format(\"F1-score\", f1_score[0], f1_score[1], f1_score[2], f1_score[3], f1_score[4]))"
   ]
  },
  {
   "cell_type": "code",
   "execution_count": 75,
   "id": "1a738a4f",
   "metadata": {},
   "outputs": [
    {
     "name": "stdout",
     "output_type": "stream",
     "text": [
      "Test accuracy: 80.000%\n"
     ]
    }
   ],
   "source": [
    "classifier.accuracy(indexed_test_x, indexed_test_y, test_lens)"
   ]
  },
  {
   "cell_type": "code",
   "execution_count": 76,
   "id": "0f9f4d06",
   "metadata": {},
   "outputs": [
    {
     "data": {
      "image/png": "[encoded data removed]",
      "text/plain": [
       "<Figure size 720x720 with 2 Axes>"
      ]
     },
     "metadata": {
      "needs_background": "light"
     },
     "output_type": "display_data"
    }
   ],
   "source": [
    "classifier.confusion_matrix(indexed_test_x, test_y, test_lens)"
   ]
  },
  {
   "cell_type": "markdown",
   "id": "885c811f",
   "metadata": {},
   "source": [
    "## Title generation (25%)\n",
    "\n",
    "Now that you've proven that titles and genre are related, make a model that can generate a title given a genre.\n",
    "\n",
    "Again, you need to generate tokens at the character level instead of the word level and the titles must be lowercased.\n",
    "Preprocess the data sets, create a neural network, and train it to generate the movie titles given their genre.\n",
    "Plot a graph of the **perplexity** of the model on the train and validation sets after each epoch."
   ]
  },
  {
   "cell_type": "code",
   "execution_count": 40,
   "id": "94fd0da0",
   "metadata": {},
   "outputs": [],
   "source": [
    "# Training Set\n",
    "train_titles = []\n",
    "train_cond = []\n",
    "for row in range(0, len(train)):\n",
    "    title = list(train.iloc[row]['title'].lower())\n",
    "    genre = [train.iloc[row]['genre']]\n",
    "\n",
    "    train_titles.append(title)\n",
    "    train_cond.append(genre)\n",
    "\n",
    "# Testing Set\n",
    "test_titles = []\n",
    "test_cond = []\n",
    "for row in range(0, len(test)):\n",
    "    title = list(test.iloc[row]['title'].lower())\n",
    "    genre = [test.iloc[row]['genre']]\n",
    "\n",
    "    test_titles.append(title)\n",
    "\n",
    "# Lengths\n",
    "train_lens = torch.tensor(\n",
    "    [len(title) for title in train_titles],\n",
    "    dtype=torch.int64, device=device\n",
    ")\n",
    "\n",
    "test_lens = torch.tensor(\n",
    "    [len(title) for title in test_titles],\n",
    "    dtype=torch.int64, device=device\n",
    ")\n",
    "\n",
    "# Genres\n",
    "genre = sorted(set(genre for text in train_cond for genre in text))\n",
    "genre = sorted(genre)\n",
    "\n",
    "# Genre Indexing\n",
    "genre2index = {genre: i for (i, genre) in enumerate(genre)}\n",
    "\n",
    "for cond in range(len(train_cond)):\n",
    "    temp_ans = train_cond[cond]\n",
    "    train_cond[cond] = [0] * len(genre)\n",
    "    train_cond[cond][genre2index[temp_ans[0]]] = 1\n",
    "\n",
    "max_len = max(max(test_lens), max(train_lens)) + 1\n",
    "\n",
    "frequencies = collections.Counter(char for text in train_titles for char in text)\n",
    "vocab = sorted(frequencies.keys(), key=frequencies.get, reverse=True)\n",
    "while frequencies[vocab[-1]] < min_freq:\n",
    "    vocab.pop()\n",
    "vocab = ['<PAD>', '<EDGE>', '<UNK>'] + sorted(vocab)\n",
    "char2index = {char: i for (i, char) in enumerate(vocab)}\n",
    "\n",
    "padded_train_x = [['<EDGE>'] + [char if char in char2index else '<UNK>' for char in sent] + ['<PAD>']*(max_len - len(sent) - 1) for sent in train_titles]\n",
    "padded_train_y = [[char if char in char2index else '<UNK>' for char in sent] + ['<EDGE>'] + ['<PAD>']*(max_len - len(sent) - 1) for sent in train_titles]\n",
    "\n",
    "indexed_train_x = torch.tensor(\n",
    "    [[char2index[char] for char in sent] for sent in padded_train_x],\n",
    "    dtype=torch.int64, \n",
    "    device=device\n",
    ")\n",
    "\n",
    "indexed_train_y = torch.tensor(\n",
    "    [[char2index[char] for char in sent] for sent in padded_train_y],\n",
    "    dtype=torch.int64, \n",
    "    device=device\n",
    ")\n",
    "\n",
    "bow_train = torch.tensor(\n",
    "    [bow for bow in train_cond],\n",
    "    dtype=torch.float32,\n",
    "    device=device\n",
    ")"
   ]
  },
  {
   "cell_type": "code",
   "execution_count": 41,
   "id": "bb36f9e9",
   "metadata": {},
   "outputs": [],
   "source": [
    "class TitleGenerationModel(torch.nn.Module):\n",
    "    def __init__(self, char_size, hidden_size, embedding_size, cond_size):\n",
    "        super().__init__()\n",
    "        self.embedding_layer = torch.nn.Embedding(char_size, embedding_size)\n",
    "        self.cond_layer = torch.nn.Linear(char_size, cond_size)\n",
    "        self.rnn_s0 = torch.nn.Parameter(torch.zeros((hidden_size, ), dtype = torch.float32))\n",
    "        self.rnn_c0 = torch.nn.Parameter(torch.zeros((hidden_size, ), dtype = torch.float32))\n",
    "        self.rnn_cell = torch.nn.LSTMCell(embedding_size, hidden_size)\n",
    "        self.output_layer = torch.nn.Linear(cond_size + hidden_size, char_size)\n",
    "    \n",
    "    def forward(self, x, bow):\n",
    "        batch_size = x.shape[0]\n",
    "        time_steps = x.shape[1]\n",
    "\n",
    "        embedded = self.embedding_layer(x)\n",
    "        cond = self.cond_layer(bow)\n",
    "\n",
    "        state = self.rnn_s0.unsqueeze(0).tile((batch_size, 1))\n",
    "        c = self.rnn_c0.unsqueeze(0).tile((batch_size, 1))\n",
    "        int_states = []\n",
    "\n",
    "        for t in range(time_steps):\n",
    "            (state, c) = self.rnn_cell(embedded[:, t, :], (state, c))\n",
    "            int_states.append(state)\n",
    "        int_states = torch.stack(int_states, dim = 1)\n",
    "\n",
    "        cond_3d = cond.unsqueeze(1).tile((1, time_steps, 1))\n",
    "        int_states = torch.cat((cond_3d, int_states), dim = 2)\n",
    "        return self.output_layer(int_states)"
   ]
  },
  {
   "cell_type": "code",
   "execution_count": 42,
   "id": "06963e72",
   "metadata": {},
   "outputs": [],
   "source": [
    "class TitleGenerator():\n",
    "\n",
    "    def __init__(self, char_size, hidden_size, embedding_size, iter, cond_size):\n",
    "        self.model = TitleGenerationModel(char_size=char_size, \n",
    "                                          embedding_size=embedding_size, \n",
    "                                          hidden_size=hidden_size,\n",
    "                                          cond_size = cond_size)\n",
    "\n",
    "        self.model.to(device)\n",
    "        self.optimiser = torch.optim.Adam(self.model.parameters())\n",
    "\n",
    "        self.errors = []\n",
    "        self.iter = iter\n",
    "    \n",
    "    def train(self, x, y, train_lens, bow):\n",
    "        print('step', 'Error')\n",
    "        \n",
    "        for step in range(0, self.iter):\n",
    "            batch_size = x.shape[0]\n",
    "            time_steps = x.shape[1]\n",
    "\n",
    "            mask = torch.zeros((batch_size, time_steps), dtype=torch.bool)\n",
    "            for i in range(batch_size):\n",
    "                for j in range(time_steps):\n",
    "                    if j >= train_lens[i]:\n",
    "                        mask[i, j] = 1\n",
    "            \n",
    "            self.optimiser.zero_grad()\n",
    "            output = self.model(x, bow)\n",
    "            e = torch.nn.functional.cross_entropy(output.transpose(1, 2), y, reduction='none')\n",
    "            e = torch.masked_fill(e, mask, 0.0)\n",
    "            error = e.sum()/train_lens.sum()\n",
    "            self.errors.append(error.detach().tolist())\n",
    "            e.backward()\n",
    "            self.optimiser.step()\n",
    "            \n",
    "            if step%50 == 0:\n",
    "                print(step, self.train_errors[-1])\n",
    "        print()\n",
    "\n",
    "    def errors_graph(self):\n",
    "        (fig, ax) = plt.subplots(1, 1)\n",
    "        ax.set_xlabel('step')\n",
    "        ax.set_ylabel('$E$')\n",
    "        ax.plot(range(1, len(self.train_errors) + 1), self.train_errors, color='blue', linestyle='-', linewidth=3)\n",
    "        ax.grid()\n",
    "    \n",
    "    def examples(self, count):\n",
    "        for _ in range(count):\n",
    "            prefix_indexes = []"
   ]
  },
  {
   "cell_type": "code",
   "execution_count": 43,
   "id": "93ec6f1c",
   "metadata": {},
   "outputs": [
    {
     "name": "stdout",
     "output_type": "stream",
     "text": [
      "step Error\n"
     ]
    },
    {
     "ename": "RuntimeError",
     "evalue": "mat1 and mat2 shapes cannot be multiplied (2736x5 and 48x16)",
     "output_type": "error",
     "traceback": [
      "\u001b[1;31m---------------------------------------------------------------------------\u001b[0m",
      "\u001b[1;31mRuntimeError\u001b[0m                              Traceback (most recent call last)",
      "\u001b[1;32m~\\AppData\\Local\\Temp\\ipykernel_8952\\1955806324.py\u001b[0m in \u001b[0;36m<module>\u001b[1;34m\u001b[0m\n\u001b[0;32m      4\u001b[0m                            \u001b[0mcond_size\u001b[0m\u001b[1;33m=\u001b[0m\u001b[1;36m16\u001b[0m\u001b[1;33m,\u001b[0m\u001b[1;33m\u001b[0m\u001b[0m\n\u001b[0;32m      5\u001b[0m                            iter=1000)\n\u001b[1;32m----> 6\u001b[1;33m \u001b[0mgenerator\u001b[0m\u001b[1;33m.\u001b[0m\u001b[0mtrain\u001b[0m\u001b[1;33m(\u001b[0m\u001b[0mindexed_train_x\u001b[0m\u001b[1;33m,\u001b[0m \u001b[0mindexed_train_y\u001b[0m\u001b[1;33m,\u001b[0m \u001b[0mtrain_lens\u001b[0m\u001b[1;33m,\u001b[0m \u001b[0mbow_train\u001b[0m\u001b[1;33m)\u001b[0m\u001b[1;33m\u001b[0m\u001b[0m\n\u001b[0m",
      "\u001b[1;32m~\\AppData\\Local\\Temp\\ipykernel_8952\\3274253747.py\u001b[0m in \u001b[0;36mtrain\u001b[1;34m(self, x, y, train_lens, bow)\u001b[0m\n\u001b[0;32m     27\u001b[0m \u001b[1;33m\u001b[0m\u001b[0m\n\u001b[0;32m     28\u001b[0m             \u001b[0mself\u001b[0m\u001b[1;33m.\u001b[0m\u001b[0moptimiser\u001b[0m\u001b[1;33m.\u001b[0m\u001b[0mzero_grad\u001b[0m\u001b[1;33m(\u001b[0m\u001b[1;33m)\u001b[0m\u001b[1;33m\u001b[0m\u001b[0m\n\u001b[1;32m---> 29\u001b[1;33m             \u001b[0moutput\u001b[0m \u001b[1;33m=\u001b[0m \u001b[0mself\u001b[0m\u001b[1;33m.\u001b[0m\u001b[0mmodel\u001b[0m\u001b[1;33m(\u001b[0m\u001b[0mx\u001b[0m\u001b[1;33m,\u001b[0m \u001b[0mbow\u001b[0m\u001b[1;33m)\u001b[0m\u001b[1;33m\u001b[0m\u001b[0m\n\u001b[0m\u001b[0;32m     30\u001b[0m             \u001b[0me\u001b[0m \u001b[1;33m=\u001b[0m \u001b[0mtorch\u001b[0m\u001b[1;33m.\u001b[0m\u001b[0mnn\u001b[0m\u001b[1;33m.\u001b[0m\u001b[0mfunctional\u001b[0m\u001b[1;33m.\u001b[0m\u001b[0mcross_entropy\u001b[0m\u001b[1;33m(\u001b[0m\u001b[0moutput\u001b[0m\u001b[1;33m.\u001b[0m\u001b[0mtranspose\u001b[0m\u001b[1;33m(\u001b[0m\u001b[1;36m1\u001b[0m\u001b[1;33m,\u001b[0m \u001b[1;36m2\u001b[0m\u001b[1;33m)\u001b[0m\u001b[1;33m,\u001b[0m \u001b[0my\u001b[0m\u001b[1;33m,\u001b[0m \u001b[0mreduction\u001b[0m\u001b[1;33m=\u001b[0m\u001b[1;34m'none'\u001b[0m\u001b[1;33m)\u001b[0m\u001b[1;33m\u001b[0m\u001b[0m\n\u001b[0;32m     31\u001b[0m             \u001b[0me\u001b[0m \u001b[1;33m=\u001b[0m \u001b[0mtorch\u001b[0m\u001b[1;33m.\u001b[0m\u001b[0mmasked_fill\u001b[0m\u001b[1;33m(\u001b[0m\u001b[0me\u001b[0m\u001b[1;33m,\u001b[0m \u001b[0mmask\u001b[0m\u001b[1;33m,\u001b[0m \u001b[1;36m0.0\u001b[0m\u001b[1;33m)\u001b[0m\u001b[1;33m\u001b[0m\u001b[0m\n",
      "\u001b[1;32mc:\\Users\\maxma\\AppData\\Local\\Programs\\Python\\Python37\\lib\\site-packages\\torch\\nn\\modules\\module.py\u001b[0m in \u001b[0;36m_call_impl\u001b[1;34m(self, *input, **kwargs)\u001b[0m\n\u001b[0;32m   1128\u001b[0m         if not (self._backward_hooks or self._forward_hooks or self._forward_pre_hooks or _global_backward_hooks\n\u001b[0;32m   1129\u001b[0m                 or _global_forward_hooks or _global_forward_pre_hooks):\n\u001b[1;32m-> 1130\u001b[1;33m             \u001b[1;32mreturn\u001b[0m \u001b[0mforward_call\u001b[0m\u001b[1;33m(\u001b[0m\u001b[1;33m*\u001b[0m\u001b[0minput\u001b[0m\u001b[1;33m,\u001b[0m \u001b[1;33m**\u001b[0m\u001b[0mkwargs\u001b[0m\u001b[1;33m)\u001b[0m\u001b[1;33m\u001b[0m\u001b[0m\n\u001b[0m\u001b[0;32m   1131\u001b[0m         \u001b[1;31m# Do not call functions when jit is used\u001b[0m\u001b[1;33m\u001b[0m\u001b[1;33m\u001b[0m\u001b[0m\n\u001b[0;32m   1132\u001b[0m         \u001b[0mfull_backward_hooks\u001b[0m\u001b[1;33m,\u001b[0m \u001b[0mnon_full_backward_hooks\u001b[0m \u001b[1;33m=\u001b[0m \u001b[1;33m[\u001b[0m\u001b[1;33m]\u001b[0m\u001b[1;33m,\u001b[0m \u001b[1;33m[\u001b[0m\u001b[1;33m]\u001b[0m\u001b[1;33m\u001b[0m\u001b[0m\n",
      "\u001b[1;32m~\\AppData\\Local\\Temp\\ipykernel_8952\\3405693064.py\u001b[0m in \u001b[0;36mforward\u001b[1;34m(self, x, bow)\u001b[0m\n\u001b[0;32m     14\u001b[0m \u001b[1;33m\u001b[0m\u001b[0m\n\u001b[0;32m     15\u001b[0m         \u001b[0membedded\u001b[0m \u001b[1;33m=\u001b[0m \u001b[0mself\u001b[0m\u001b[1;33m.\u001b[0m\u001b[0membedding_layer\u001b[0m\u001b[1;33m(\u001b[0m\u001b[0mx\u001b[0m\u001b[1;33m)\u001b[0m\u001b[1;33m\u001b[0m\u001b[0m\n\u001b[1;32m---> 16\u001b[1;33m         \u001b[0mcond\u001b[0m \u001b[1;33m=\u001b[0m \u001b[0mself\u001b[0m\u001b[1;33m.\u001b[0m\u001b[0mcond_layer\u001b[0m\u001b[1;33m(\u001b[0m\u001b[0mbow\u001b[0m\u001b[1;33m)\u001b[0m\u001b[1;33m\u001b[0m\u001b[0m\n\u001b[0m\u001b[0;32m     17\u001b[0m \u001b[1;33m\u001b[0m\u001b[0m\n\u001b[0;32m     18\u001b[0m         \u001b[0mstate\u001b[0m \u001b[1;33m=\u001b[0m \u001b[0mself\u001b[0m\u001b[1;33m.\u001b[0m\u001b[0mrnn_s0\u001b[0m\u001b[1;33m.\u001b[0m\u001b[0munsqueeze\u001b[0m\u001b[1;33m(\u001b[0m\u001b[1;36m0\u001b[0m\u001b[1;33m)\u001b[0m\u001b[1;33m.\u001b[0m\u001b[0mtile\u001b[0m\u001b[1;33m(\u001b[0m\u001b[1;33m(\u001b[0m\u001b[0mbatch_size\u001b[0m\u001b[1;33m,\u001b[0m \u001b[1;36m1\u001b[0m\u001b[1;33m)\u001b[0m\u001b[1;33m)\u001b[0m\u001b[1;33m\u001b[0m\u001b[0m\n",
      "\u001b[1;32mc:\\Users\\maxma\\AppData\\Local\\Programs\\Python\\Python37\\lib\\site-packages\\torch\\nn\\modules\\module.py\u001b[0m in \u001b[0;36m_call_impl\u001b[1;34m(self, *input, **kwargs)\u001b[0m\n\u001b[0;32m   1128\u001b[0m         if not (self._backward_hooks or self._forward_hooks or self._forward_pre_hooks or _global_backward_hooks\n\u001b[0;32m   1129\u001b[0m                 or _global_forward_hooks or _global_forward_pre_hooks):\n\u001b[1;32m-> 1130\u001b[1;33m             \u001b[1;32mreturn\u001b[0m \u001b[0mforward_call\u001b[0m\u001b[1;33m(\u001b[0m\u001b[1;33m*\u001b[0m\u001b[0minput\u001b[0m\u001b[1;33m,\u001b[0m \u001b[1;33m**\u001b[0m\u001b[0mkwargs\u001b[0m\u001b[1;33m)\u001b[0m\u001b[1;33m\u001b[0m\u001b[0m\n\u001b[0m\u001b[0;32m   1131\u001b[0m         \u001b[1;31m# Do not call functions when jit is used\u001b[0m\u001b[1;33m\u001b[0m\u001b[1;33m\u001b[0m\u001b[0m\n\u001b[0;32m   1132\u001b[0m         \u001b[0mfull_backward_hooks\u001b[0m\u001b[1;33m,\u001b[0m \u001b[0mnon_full_backward_hooks\u001b[0m \u001b[1;33m=\u001b[0m \u001b[1;33m[\u001b[0m\u001b[1;33m]\u001b[0m\u001b[1;33m,\u001b[0m \u001b[1;33m[\u001b[0m\u001b[1;33m]\u001b[0m\u001b[1;33m\u001b[0m\u001b[0m\n",
      "\u001b[1;32mc:\\Users\\maxma\\AppData\\Local\\Programs\\Python\\Python37\\lib\\site-packages\\torch\\nn\\modules\\linear.py\u001b[0m in \u001b[0;36mforward\u001b[1;34m(self, input)\u001b[0m\n\u001b[0;32m    112\u001b[0m \u001b[1;33m\u001b[0m\u001b[0m\n\u001b[0;32m    113\u001b[0m     \u001b[1;32mdef\u001b[0m \u001b[0mforward\u001b[0m\u001b[1;33m(\u001b[0m\u001b[0mself\u001b[0m\u001b[1;33m,\u001b[0m \u001b[0minput\u001b[0m\u001b[1;33m:\u001b[0m \u001b[0mTensor\u001b[0m\u001b[1;33m)\u001b[0m \u001b[1;33m->\u001b[0m \u001b[0mTensor\u001b[0m\u001b[1;33m:\u001b[0m\u001b[1;33m\u001b[0m\u001b[0m\n\u001b[1;32m--> 114\u001b[1;33m         \u001b[1;32mreturn\u001b[0m \u001b[0mF\u001b[0m\u001b[1;33m.\u001b[0m\u001b[0mlinear\u001b[0m\u001b[1;33m(\u001b[0m\u001b[0minput\u001b[0m\u001b[1;33m,\u001b[0m \u001b[0mself\u001b[0m\u001b[1;33m.\u001b[0m\u001b[0mweight\u001b[0m\u001b[1;33m,\u001b[0m \u001b[0mself\u001b[0m\u001b[1;33m.\u001b[0m\u001b[0mbias\u001b[0m\u001b[1;33m)\u001b[0m\u001b[1;33m\u001b[0m\u001b[0m\n\u001b[0m\u001b[0;32m    115\u001b[0m \u001b[1;33m\u001b[0m\u001b[0m\n\u001b[0;32m    116\u001b[0m     \u001b[1;32mdef\u001b[0m \u001b[0mextra_repr\u001b[0m\u001b[1;33m(\u001b[0m\u001b[0mself\u001b[0m\u001b[1;33m)\u001b[0m \u001b[1;33m->\u001b[0m \u001b[0mstr\u001b[0m\u001b[1;33m:\u001b[0m\u001b[1;33m\u001b[0m\u001b[0m\n",
      "\u001b[1;31mRuntimeError\u001b[0m: mat1 and mat2 shapes cannot be multiplied (2736x5 and 48x16)"
     ]
    }
   ],
   "source": [
    "generator = TitleGenerator(char_size=len(vocab),\n",
    "                           hidden_size=16,\n",
    "                           embedding_size=16,\n",
    "                           cond_size=16,\n",
    "                           iter=1000)\n",
    "generator.train(indexed_train_x, indexed_train_y, train_lens, bow_train)"
   ]
  },
  {
   "cell_type": "markdown",
   "id": "da86299f",
   "metadata": {},
   "source": [
    "Generate 3 titles for every genre.\n",
    "Make sure that the titles are not all the same."
   ]
  },
  {
   "cell_type": "code",
   "execution_count": null,
   "id": "f2aa6465",
   "metadata": {},
   "outputs": [],
   "source": []
  },
  {
   "cell_type": "markdown",
   "id": "cc97665b",
   "metadata": {},
   "source": [
    "## Language models as classifiers (30%)\n",
    "\n",
    "It occurs to you that the movie title generator can also be used as a classifier by doing the following:\n",
    "\n",
    "* Let title $t$ be the title that you want to classify.\n",
    "* For every genre $g$,\n",
    "    * Use the generator as a language model to get the probability of $t$ (the whole title) using genre $g$.\n",
    "* Pick the genre that makes the language model give the largest probability.\n",
    "\n",
    "The producer is thrilled to not need two separate models and now you have to implement this.\n",
    "**Use the preprocessed test set from the previous task** in order to find the genre that makes the language model give the largest probability.\n",
    "There is no need to plot anything here."
   ]
  },
  {
   "cell_type": "code",
   "execution_count": null,
   "id": "44ba8fd6",
   "metadata": {},
   "outputs": [],
   "source": []
  },
  {
   "cell_type": "markdown",
   "id": "3841496d",
   "metadata": {},
   "source": [
    "Just like in the classification task, measure the F1 score and plot the confusion matrix of this new classifier."
   ]
  },
  {
   "cell_type": "code",
   "execution_count": null,
   "id": "148060ad",
   "metadata": {},
   "outputs": [],
   "source": []
  },
  {
   "cell_type": "markdown",
   "id": "b6399514",
   "metadata": {},
   "source": [
    "Write a paragraph or psuedo code to describe what your code above does."
   ]
  },
  {
   "cell_type": "code",
   "execution_count": null,
   "id": "f33c9a9e",
   "metadata": {},
   "outputs": [],
   "source": [
    "'''\n",
    "\n",
    "'''"
   ]
  },
  {
   "cell_type": "markdown",
   "id": "0f5888e6",
   "metadata": {},
   "source": [
    "## Conclusion (10%)\n",
    "\n",
    "The producer's funders are asking for a report about this new technology they invested in.\n",
    "In 300 words, write your interpretation of the results together with what you think could make the model perform better."
   ]
  },
  {
   "cell_type": "code",
   "execution_count": null,
   "id": "a3b0fa26",
   "metadata": {},
   "outputs": [],
   "source": [
    "'''\n",
    "\n",
    "'''"
   ]
  }
 ],
 "metadata": {
  "kernelspec": {
   "display_name": "Python 3.7.0 64-bit",
   "language": "python",
   "name": "python3"
  },
  "language_info": {
   "codemirror_mode": {
    "name": "ipython",
    "version": 3
   },
   "file_extension": ".py",
   "mimetype": "text/x-python",
   "name": "python",
   "nbconvert_exporter": "python",
   "pygments_lexer": "ipython3",
   "version": "3.7.0"
  },
  "vscode": {
   "interpreter": {
    "hash": "ba52e550df5dd7c4d4156f043c0b54db698368195948b3b2935474e916126db8"
   }
  }
 },
 "nbformat": 4,
 "nbformat_minor": 5
}
